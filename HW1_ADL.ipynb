{
  "nbformat": 4,
  "nbformat_minor": 0,
  "metadata": {
    "colab": {
      "provenance": [],
      "authorship_tag": "ABX9TyNSRj2UzlVL7Gh1UGmOAh3h",
      "include_colab_link": true
    },
    "kernelspec": {
      "name": "python3",
      "display_name": "Python 3"
    },
    "language_info": {
      "name": "python"
    }
  },
  "cells": [
    {
      "cell_type": "markdown",
      "metadata": {
        "id": "view-in-github",
        "colab_type": "text"
      },
      "source": [
        "<a href=\"https://colab.research.google.com/github/metehanari/Machine-Learning-AI/blob/main/HW1_ADL.ipynb\" target=\"_parent\"><img src=\"https://colab.research.google.com/assets/colab-badge.svg\" alt=\"Open In Colab\"/></a>"
      ]
    },
    {
      "cell_type": "code",
      "execution_count": 153,
      "metadata": {
        "id": "p2VHgmQa3czP"
      },
      "outputs": [],
      "source": [
        "import numpy as np\n"
      ]
    },
    {
      "cell_type": "code",
      "source": [
        "import time"
      ],
      "metadata": {
        "id": "nUUKiHF54U5E"
      },
      "execution_count": 154,
      "outputs": []
    },
    {
      "cell_type": "code",
      "source": [
        "array_size = 10000000"
      ],
      "metadata": {
        "id": "VlB0rEtO4XQz"
      },
      "execution_count": 155,
      "outputs": []
    },
    {
      "cell_type": "code",
      "source": [
        "data = np.random.rand(array_size)   # a randomly generated array between [0,1) of size 1e7 was created."
      ],
      "metadata": {
        "id": "W5eks6-S4iYj"
      },
      "execution_count": 156,
      "outputs": []
    },
    {
      "cell_type": "code",
      "source": [
        "np.set_printoptions(threshold=10) # check out for first 10 elements."
      ],
      "metadata": {
        "id": "xju2PSxP4nAj"
      },
      "execution_count": 157,
      "outputs": []
    },
    {
      "cell_type": "code",
      "source": [
        "data # here is our data."
      ],
      "metadata": {
        "colab": {
          "base_uri": "https://localhost:8080/"
        },
        "id": "NqvctHQd_eLG",
        "outputId": "56fef3b8-b00e-45e1-d00d-842661155a41"
      },
      "execution_count": 158,
      "outputs": [
        {
          "output_type": "execute_result",
          "data": {
            "text/plain": [
              "array([0.6808195 , 0.75609839, 0.6780283 , ..., 0.26283676, 0.58519637,\n",
              "       0.31706252])"
            ]
          },
          "metadata": {},
          "execution_count": 158
        }
      ]
    },
    {
      "cell_type": "code",
      "source": [
        "start_time = time.time() # initalize the timer"
      ],
      "metadata": {
        "id": "0QeCm9FX4okE"
      },
      "execution_count": 159,
      "outputs": []
    },
    {
      "cell_type": "code",
      "source": [
        "mult_loop = 1"
      ],
      "metadata": {
        "id": "Fq_JdHW_4wkz"
      },
      "execution_count": 160,
      "outputs": []
    },
    {
      "cell_type": "code",
      "source": [
        "for num in data:          # we are multiplying all the numbers.\n",
        "  mult_loop *= num\n",
        "loop_time = time.time() - start_time  # substracting the current time and the start time to see elapsed time."
      ],
      "metadata": {
        "id": "Qo1tktFC42IC"
      },
      "execution_count": 161,
      "outputs": []
    },
    {
      "cell_type": "code",
      "source": [
        "print(f\"The elapsed time for loops: {loop_time:.3f} seconds...\")"
      ],
      "metadata": {
        "colab": {
          "base_uri": "https://localhost:8080/"
        },
        "id": "LVJhU8Ur5Ufk",
        "outputId": "4d9ecfe0-935b-42e9-e45e-661282420219"
      },
      "execution_count": 162,
      "outputs": [
        {
          "output_type": "stream",
          "name": "stdout",
          "text": [
            "The elapsed time for loops: 2.980 seconds...\n"
          ]
        }
      ]
    },
    {
      "cell_type": "code",
      "source": [
        "start_time = time.time()\n",
        "sum_numpy = np.prod(data)\n",
        "numpy_time = time.time() - start_time"
      ],
      "metadata": {
        "id": "zBMRYJTH5U-U"
      },
      "execution_count": 163,
      "outputs": []
    },
    {
      "cell_type": "code",
      "source": [
        "print(f\"The elapsed time for NumPy vectorized computation: {numpy_time:.7f} seconds...\")"
      ],
      "metadata": {
        "colab": {
          "base_uri": "https://localhost:8080/"
        },
        "id": "t-Y3Mk3u5nfl",
        "outputId": "bcd7e9ea-607b-462f-c9d4-b9bdebf8ace4"
      },
      "execution_count": 164,
      "outputs": [
        {
          "output_type": "stream",
          "name": "stdout",
          "text": [
            "The elapsed time for NumPy vectorized computation: 0.0170846 seconds...\n"
          ]
        }
      ]
    },
    {
      "cell_type": "code",
      "source": [
        "print(f\"Performance difference: {loop_time / numpy_time:.2f} times faster.\")"
      ],
      "metadata": {
        "colab": {
          "base_uri": "https://localhost:8080/"
        },
        "id": "8auI4boz5uCG",
        "outputId": "ba257f5e-83db-449e-f82e-223b3ec43d56"
      },
      "execution_count": 165,
      "outputs": [
        {
          "output_type": "stream",
          "name": "stdout",
          "text": [
            "Performance difference: 174.40 times faster.\n"
          ]
        }
      ]
    },
    {
      "cell_type": "markdown",
      "source": [
        "# Where and Why Vectorized Computation used?\n"
      ],
      "metadata": {
        "id": "c8mZexupCK-D"
      }
    },
    {
      "cell_type": "markdown",
      "source": [
        "* *Numpy is developed in C and Fortran. Their methods are highly optimized and\n",
        "fast as machine speed.In contrast, Python loops are interpreted and this also causes additional overhead.*\n",
        "\n",
        "* *When you use a vectorized computation method, a single function called from interpreter. And this is faster than a loop iteration.*\n",
        "\n",
        "* *Vectorized operations use a small amount memory compared to loop iteration.*\n",
        "\n",
        "* *Vectorized libraries utilize the advantages of modern CPU features, such as parallelism and SIMD(Single Instruction, Multiple Data).*\n",
        "\n",
        "* *Vectorized computation methods provide consice and readable code.*"
      ],
      "metadata": {
        "id": "2Awmbf0FCLWD"
      }
    }
  ]
}